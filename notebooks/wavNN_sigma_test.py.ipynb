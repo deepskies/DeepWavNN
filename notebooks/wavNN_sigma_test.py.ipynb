{
 "cells": [
  {
   "cell_type": "code",
   "execution_count": 16,
   "id": "1da06de9",
   "metadata": {},
   "outputs": [],
   "source": [
    "import sys\n",
    "sys.path.append(\"..\") #(This is lazy. Don't do this.)\n",
    "\n",
    "\n",
    "from wavNN.train_model import TrainingLoop\n",
    "from wavNN.models.wavMLP import *\n",
    "from wavNN.data.nmist_generator import *\n",
    "\n",
    "import torch\n",
    "\n",
    "import numpy as np \n",
    "import pandas as pd \n",
    "import matplotlib.pyplot as plt"
   ]
  },
  {
   "cell_type": "code",
   "execution_count": 12,
   "id": "bec817fc",
   "metadata": {},
   "outputs": [],
   "source": [
    "# Test 30 iterations of wavNN history\n",
    "\n",
    "all_wavNN_history = {}\n",
    "num_tests = 30\n",
    "\n",
    "model_params = {\n",
    "        \"in_channels\": 28,\n",
    "        \"hidden_size\": 256,\n",
    "        \"out_channels\": 10,\n",
    "        \"level\": 2,\n",
    "        \"vanilla\": False,\n",
    "        \"tail\": True,\n",
    "    }\n",
    "\n",
    "data_params = {\"sample_size\": [4000, 2000, 2000], \"split\": True}\n",
    "\n",
    "\n",
    "for iteration in range(30): \n",
    "\n",
    "    training = TrainingLoop(\n",
    "        model_class=WavMLP,\n",
    "        model_params=model_params,\n",
    "        data_class=NMISTGenerator,\n",
    "        data_params=data_params,\n",
    "        optimizer=torch.optim.SGD,\n",
    "        loss=torch.nn.CrossEntropyLoss,\n",
    "        epochs=80,\n",
    "    )\n",
    "    training()\n",
    "    all_wavNN_history[iteration] = training.history"
   ]
  },
  {
   "cell_type": "code",
   "execution_count": 29,
   "id": "79f95647",
   "metadata": {},
   "outputs": [
    {
     "data": {
      "text/plain": [
       "Text(0.5, 0, 'Epoch')"
      ]
     },
     "execution_count": 29,
     "metadata": {},
     "output_type": "execute_result"
    },
    {
     "data": {
      "image/png": "[encoded data removed]",
      "text/plain": [
       "<Figure size 640x480 with 1 Axes>"
      ]
     },
     "metadata": {},
     "output_type": "display_data"
    }
   ],
   "source": [
    "train_loss = np.asarray([all_wavNN_history[i]['train_loss'] for i in all_wavNN_history])\n",
    "train_loss_mean = np.std(train_loss, axis=0)\n",
    "train_loss_std = np.mean(train_loss, axis=0)\n",
    "\n",
    "val_loss = np.asarray([all_wavNN_history[i]['val_loss'] for i in all_wavNN_history])\n",
    "val_mean = np.std(train_loss, axis=0)\n",
    "val_std = np.mean(train_loss, axis=0)\n",
    "\n",
    "plt.errorbar(range(len(train_loss_mean)), train_loss_mean, yerr=train_loss_std, label=\"Train\", alpha=.5)\n",
    "plt.errorbar(range(len(train_loss_mean)), val_mean, yerr=val_std, label=\"Validation\", alpha=.5)\n",
    "\n",
    "plt.ylabel(\"Loss\")\n",
    "plt.xlabel(\"Epoch\")"
   ]
  },
  {
   "cell_type": "code",
   "execution_count": 30,
   "id": "1a2d85bb",
   "metadata": {},
   "outputs": [],
   "source": [
    "# Test 30 iterations of wavNN history\n",
    "\n",
    "all_vanilla_history = {}\n",
    "num_tests = 30\n",
    "\n",
    "model_params = {\n",
    "        \"in_channels\": 28,\n",
    "        \"hidden_size\": 256,\n",
    "        \"out_channels\": 10,\n",
    "        \"level\": 2,\n",
    "        \"vanilla\": True,\n",
    "        \"tail\": True,\n",
    "    }\n",
    "\n",
    "data_params = {\"sample_size\": [4000, 2000, 2000], \"split\": True}\n",
    "\n",
    "\n",
    "for iteration in range(30): \n",
    "\n",
    "    training = TrainingLoop(\n",
    "        model_class=WavMLP,\n",
    "        model_params=model_params,\n",
    "        data_class=NMISTGenerator,\n",
    "        data_params=data_params,\n",
    "        optimizer=torch.optim.SGD,\n",
    "        loss=torch.nn.CrossEntropyLoss,\n",
    "        epochs=80,\n",
    "    )\n",
    "    training()\n",
    "    all_vanilla_history[iteration] = training.history"
   ]
  },
  {
   "cell_type": "code",
   "execution_count": 31,
   "id": "e5346cab",
   "metadata": {},
   "outputs": [
    {
     "data": {
      "text/plain": [
       "Text(0.5, 0, 'Epoch')"
      ]
     },
     "execution_count": 31,
     "metadata": {},
     "output_type": "execute_result"
    },
    {
     "data": {
      "image/png": "[encoded data removed]",
      "text/plain": [
       "<Figure size 640x480 with 1 Axes>"
      ]
     },
     "metadata": {},
     "output_type": "display_data"
    }
   ],
   "source": [
    "train_loss = np.asarray([all_vanilla_history[i]['train_loss'] for i in all_wavNN_history])\n",
    "train_loss_mean = np.std(train_loss, axis=0)\n",
    "train_loss_std = np.mean(train_loss, axis=0)\n",
    "\n",
    "val_loss = np.asarray([all_vanilla_history[i]['val_loss'] for i in all_wavNN_history])\n",
    "val_mean = np.std(train_loss, axis=0)\n",
    "val_std = np.mean(train_loss, axis=0)\n",
    "\n",
    "plt.errorbar(range(len(train_loss_mean)), train_loss_mean, yerr=train_loss_std, label=\"Train\", alpha=.5)\n",
    "plt.errorbar(range(len(train_loss_mean)), val_mean, yerr=val_std, label=\"Validation\", alpha=.5)\n",
    "\n",
    "plt.ylabel(\"Loss\")\n",
    "plt.xlabel(\"Epoch\")"
   ]
  },
  {
   "cell_type": "code",
   "execution_count": null,
   "id": "6a692652",
   "metadata": {},
   "outputs": [],
   "source": [
    "#   Message: Variance of a net this small, nearly completely dependent on its init weights. Cannot tell us anything. \n",
    "    # Need a better sample and a larger network to actually say anything definitive. "
   ]
  }
 ],
 "metadata": {
  "kernelspec": {
   "display_name": "Python 3 (ipykernel)",
   "language": "python",
   "name": "python3"
  },
  "language_info": {
   "codemirror_mode": {
    "name": "ipython",
    "version": 3
   },
   "file_extension": ".py",
   "mimetype": "text/x-python",
   "name": "python",
   "nbconvert_exporter": "python",
   "pygments_lexer": "ipython3",
   "version": "3.10.5"
  }
 },
 "nbformat": 4,
 "nbformat_minor": 5
}
